{
  "nbformat": 4,
  "nbformat_minor": 0,
  "metadata": {
    "colab": {
      "name": "ML_Assignment_1.ipynb",
      "provenance": [],
      "authorship_tag": "ABX9TyN3u1Czs+QyFQTRPnmx8twz",
      "include_colab_link": true
    },
    "kernelspec": {
      "name": "python3",
      "display_name": "Python 3"
    },
    "language_info": {
      "name": "python"
    }
  },
  "cells": [
    {
      "cell_type": "markdown",
      "metadata": {
        "id": "view-in-github",
        "colab_type": "text"
      },
      "source": [
        "<a href=\"https://colab.research.google.com/github/FrasonFrancis/ML_Theory_Assignment_/blob/main/ML_Assignment_1.ipynb\" target=\"_parent\"><img src=\"https://colab.research.google.com/assets/colab-badge.svg\" alt=\"Open In Colab\"/></a>"
      ]
    },
    {
      "cell_type": "markdown",
      "metadata": {
        "id": "LLxcqhojETUJ"
      },
      "source": [
        "1. **What does one mean by the term &quot;machine learning&quot;?**\n",
        "\n",
        "\n",
        "> Machine learning is the concept that a computer program can learn and adapt to new data without human intervention. Machine learning is a field of artificial intelligence (AI) that keeps a computer’s built-in algorithms current regardless of changes in the worldwide economy. \n",
        "\n",
        "Machine learning is an area of artificial intelligence (AI) with a concept that \n",
        "\n",
        "* A computer program can learn and adapt to new data without human intervention.\n",
        "* A complex algorithm or source code is built into a computer that allows for the machine to identify data and build predictions around the data that it identifies.\n",
        "* Machine learning is useful in parsing the immense amount of information that is consistently and readily available in the world to assist in decision making.\n",
        "* Machine learning can be applied in a variety of areas, such as in investing, advertising, lending, organizing news, fraud detection, and more.\n",
        "\n"
      ]
    },
    {
      "cell_type": "markdown",
      "metadata": {
        "id": "k27GHJxoG3OQ"
      },
      "source": [
        "2. **Can you think of 4 distinct types of issues where it shines?**\n",
        "\n",
        "> Machine learning is great for problems whose solution requires a great deal of work or a long list of rules, complex problems that are hard to get a solution of using a traditional method, fluctuating environments and getting insights about complex problems and large data.\n",
        "\n"
      ]
    },
    {
      "cell_type": "markdown",
      "metadata": {
        "id": "RbfB7tWSHSxM"
      },
      "source": [
        "3. **What is a labeled training set?**\n",
        "\n",
        "> Labeled training set is a set of training data which has a solution to the problem or task (a.k.a. label).\n",
        "\n"
      ]
    },
    {
      "cell_type": "markdown",
      "metadata": {
        "id": "W9n3SIyOH0zH"
      },
      "source": [
        "4. **What are the two most common supervised tasks?**\n",
        "\n",
        "> Two most common supervised tasks are classification and regression.\n",
        "\n",
        "\n",
        "\n"
      ]
    },
    {
      "cell_type": "markdown",
      "metadata": {
        "id": "V1hOcsDJIMdz"
      },
      "source": [
        "5. **Can you name four common unsupervised tasks?**\n",
        "\n",
        "> Four common unsupervised tasks inclused clustering, visualization, dimensionality reduction , and association rule learning.\n"
      ]
    },
    {
      "cell_type": "markdown",
      "metadata": {
        "id": "Zo9S55dcINPr"
      },
      "source": [
        "6. **What type of Machine Learning algorithm would you use to allow a robot to walk in various unknown terrains?**\n",
        "\n",
        "> The best Machine Learning algorithm to allow a robot to walk in unknown terrain is Reinforced Learning, where the robot can learn from response of the terrain to optimize itself.\n",
        "\n"
      ]
    },
    {
      "cell_type": "markdown",
      "metadata": {
        "id": "4DMDsIcmIOpv"
      },
      "source": [
        "7. **What type of algorithm would you use to segment your customers into multiple groups?**\n",
        "\n",
        "> The best algorithm to segment customers into multiple groups is either supervised learning (if the groups have known labels) or unsupervised learning (if there are no group labels)."
      ]
    },
    {
      "cell_type": "markdown",
      "metadata": {
        "id": "DzKbOLsVIObt"
      },
      "source": [
        "8. **Would you frame the problem of spam detection as a supervised learning problem or an unsupervised learning problem?**\n",
        "\n",
        "> Spam detection is a supervised learning problem because the labels are known (spam or no spam)."
      ]
    },
    {
      "cell_type": "markdown",
      "metadata": {
        "id": "GBKFSa9PIOUu"
      },
      "source": [
        "9. What is an online learning system?\n",
        "\n",
        "> Online learning system is a learning system in which the machine learns as data is given in small streams continuously.\n",
        "\n"
      ]
    },
    {
      "cell_type": "markdown",
      "metadata": {
        "id": "nnjrTjJEIOJz"
      },
      "source": [
        "10. **What is out-of-core learning system?**\n",
        "\n",
        "> Out-of-core learning system is a system that can handle data that cannot fit into your computer memory. It uses online learning system to feed data in small bits."
      ]
    },
    {
      "cell_type": "markdown",
      "metadata": {
        "id": "twvm99D3INwH"
      },
      "source": [
        "11. **What type of learning algorithm relies on a similarity measure to make predictions?**\n",
        "\n",
        "> Learning algorithm that relies on a similarity measure to make predictions is instance-based algorithm."
      ]
    },
    {
      "cell_type": "markdown",
      "metadata": {
        "id": "e4JAlFuxMn1R"
      },
      "source": [
        "12. **What is the difference between a model parameter and a learning algorithm's hyperparameter?**\n",
        "\n",
        "> Model parameter determines how a model will predict given a new instance; model usually has more than one parameter (i.e. slope of a linear model). Hyperparameter is a parameter for the learning algorithm, not of a model."
      ]
    },
    {
      "cell_type": "markdown",
      "metadata": {
        "id": "VloUUd3BMoOi"
      },
      "source": [
        "13. **What do model-based learning algorithms search for? What is the most common strategy they use to succeed? How do they make predictions?**\n",
        "\n",
        "> Model based learning algorithm search for the optimal value of parameters in a model that will give the best results for the new instances. We often use a cost function or similar to determine what the parameter value has to be in order to minimize the function. The model makes prediction by using the value of the new instance and the parameters in its function.\n",
        "\n"
      ]
    },
    {
      "cell_type": "markdown",
      "metadata": {
        "id": "5CvPJPchMpcq"
      },
      "source": [
        "14. **Can you name four of the main challenges in Machine Learning?**\n",
        "\n",
        "> Four main challenges in Machine Learning include overfitting the data (using a model too complicated), underfitting the data (using a simple model), lacking in data and nonrepresentative data."
      ]
    },
    {
      "cell_type": "markdown",
      "metadata": {
        "id": "DSaKLxv_MpZK"
      },
      "source": [
        "15. **If your model performs great on the training data but generalizes poorly to new instances, what is happening? Can you name three possible solutions?**\n",
        "\n",
        "> If the model performs poorly to new instances, then it has overfit on the training data. To solve this, we can do any of the following three: get more data, implement a simpler model, or eliminate outliers or noise from the existing data set.\n",
        "\n"
      ]
    },
    {
      "cell_type": "markdown",
      "metadata": {
        "id": "Vk5hD4rRMpWN"
      },
      "source": [
        "16. **What is a test set and why would you want to use it?**\n",
        "\n",
        "> Test set is a set that you test your model (fit using training data) to see how it performs. Test set is necessary so that you can determine how good (or bad) your model performs."
      ]
    },
    {
      "cell_type": "markdown",
      "metadata": {
        "id": "gWS63gmtMpPy"
      },
      "source": [
        "17. **What is the purpose of a validation set?**\n",
        "\n",
        "> Validation set is a set used to compare between different training models.\n",
        "\n"
      ]
    },
    {
      "cell_type": "markdown",
      "metadata": {
        "id": "MpQzPS9nMoqj"
      },
      "source": [
        "18. What can go wrong if you tune hyperparameters using the test set?\n",
        "\n",
        "> If you tune hyperparameters using the test sets, then it may not perform well on the out-of-sample data because the model is tuned just for that specific set."
      ]
    },
    {
      "cell_type": "markdown",
      "metadata": {
        "id": "tkz5bTcENlEw"
      },
      "source": [
        "19. **What is cross-validation and why would you prefer it to a validation set?**\n",
        "\n",
        "> Cross-validation is a tool to compare models without needing a separate validation set. It is preferred over validation set because we can save from breaking of part of the training set to create a validation set, as having more data is valuable regardless."
      ]
    }
  ]
}